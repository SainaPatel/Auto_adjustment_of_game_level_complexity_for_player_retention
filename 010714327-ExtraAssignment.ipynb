{
 "cells": [
  {
   "cell_type": "code",
   "execution_count": 12,
   "metadata": {
    "collapsed": true
   },
   "outputs": [],
   "source": [
    "import requests, StringIO, pandas as pd, json, re"
   ]
  },
  {
   "cell_type": "code",
   "execution_count": 13,
   "metadata": {
    "collapsed": true
   },
   "outputs": [],
   "source": [
    "'''A function returning a StringIO object containg the file content.'''\n",
    "def getFileContent(credentials):\n",
    "    url1 = ''.join([credentials['auth_url'], '/v3/auth/tokens'])\n",
    "    data = {'auth': {'identity': {'methods': ['password'],\n",
    "            'password': {'user': {'name': credentials['username'],'domain': {'id': credentials['domain_id']},\n",
    "            'password': credentials['password']}}}}}\n",
    "    headers1 = {'Content-Type': 'application/json'}\n",
    "    resp1 = requests.post(url=url1, data=json.dumps(data), headers=headers1)\n",
    "    resp1_body = resp1.json()    \n",
    "    for e1 in resp1_body['token']['catalog']:\n",
    "        if(e1['type']=='object-store'):\n",
    "            for e2 in e1['endpoints']:\n",
    "                if(e2['interface']=='public'):\n",
    "                    url2 = ''.join([e2['url'],'/', credentials['container'], '/', credentials['filename']])\n",
    "    s_subject_token = resp1.headers['x-subject-token']\n",
    "    headers2 = {'X-Auth-Token': s_subject_token, 'accept': 'application/json'}\n",
    "    resp2 = requests.get(url=url2, headers=headers2)\n",
    "    return StringIO.StringIO(resp2.content)"
   ]
  },
  {
   "cell_type": "code",
   "execution_count": 14,
   "metadata": {
    "collapsed": false
   },
   "outputs": [
    {
     "data": {
      "text/plain": [
       "{'auth_url': 'https://identity.open.softlayer.com',\n",
       " 'container': 'notebooks',\n",
       " 'domain_id': 'f2dc0f9c3d0047a0b9c738cce6143f98',\n",
       " 'domain_name': '797339',\n",
       " 'filename': 'FreeFlowPlayerData.csv',\n",
       " 'password': 'FH*91K_NZ#nvou=&',\n",
       " 'project': 'object_storage_318907b4',\n",
       " 'project_id': '84a82590ff214fb5b85c4f4ab404499e',\n",
       " 'region': 'dallas',\n",
       " 'tenantId': 's2e6-42e0d28b663e8d-ce1ed243cebd',\n",
       " 'user_id': '7753af79089b4e4b98dbe4a4761a19b8',\n",
       " 'username': 'user_b705fcfddb47f82a89f5312dc37b04e44c4d0f3e'}"
      ]
     },
     "execution_count": 14,
     "metadata": {},
     "output_type": "execute_result"
    }
   ],
   "source": [
    "{\n",
    "    \"auth_url\" : \"https://identity.open.softlayer.com\",\n",
    "\"project\" : \"object_storage_318907b4\",\n",
    "\"project_id\" : \"84a82590ff214fb5b85c4f4ab404499e\",\n",
    "\"region\" : \"dallas\",\n",
    "\"user_id\" : \"7753af79089b4e4b98dbe4a4761a19b8\",\n",
    "\"domain_id\" : \"f2dc0f9c3d0047a0b9c738cce6143f98\",\n",
    "\"domain_name\" : \"797339\",\n",
    "\"username\" : \"user_b705fcfddb47f82a89f5312dc37b04e44c4d0f3e\",\n",
    "\"password\" : \"FH*91K_NZ#nvou=&\",\n",
    "\"filename\" : \"FreeFlowPlayerData.csv\",\n",
    "\"container\" : \"notebooks\",\n",
    "\"tenantId\" : \"s2e6-42e0d28b663e8d-ce1ed243cebd\"\n",
    "}"
   ]
  },
  {
   "cell_type": "code",
   "execution_count": 15,
   "metadata": {
    "collapsed": true
   },
   "outputs": [],
   "source": [
    "credentials = {}\n",
    "credentials['auth_url'] = 'https://identity.open.softlayer.com'\n",
    "credentials['domain_id'] = 'f2dc0f9c3d0047a0b9c738cce6143f98'\n",
    "credentials['username'] = 'user_b705fcfddb47f82a89f5312dc37b04e44c4d0f3e'\n",
    "credentials['password'] = 'FH*91K_NZ#nvou=&'\n",
    "credentials['filename'] = 'FreeFlowPlayerData.csv'\n",
    "credentials['container'] = 'notebooks'"
   ]
  },
  {
   "cell_type": "code",
   "execution_count": 17,
   "metadata": {
    "collapsed": true
   },
   "outputs": [],
   "source": [
    "content_string = getFileContent(credentials)\n",
    "game_df = pd.read_csv(content_string)"
   ]
  },
  {
   "cell_type": "code",
   "execution_count": 18,
   "metadata": {
    "collapsed": false
   },
   "outputs": [
    {
     "data": {
      "text/html": [
       "<div style=\"max-height:1000px;max-width:1500px;overflow:auto;\">\n",
       "<table border=\"1\" class=\"dataframe\">\n",
       "  <thead>\n",
       "    <tr style=\"text-align: right;\">\n",
       "      <th></th>\n",
       "      <th>Players</th>\n",
       "      <th>Game1(number of moves)</th>\n",
       "      <th>Game2(number of moves)</th>\n",
       "      <th>Game3(number of moves)</th>\n",
       "      <th>Game4(number of moves)</th>\n",
       "      <th>Game5(number of moves)</th>\n",
       "      <th>Game6(number of moves)</th>\n",
       "      <th>Day1(Time in minutes)</th>\n",
       "      <th>Day2(Time in minutes)</th>\n",
       "      <th>Day3(Time in minutes)</th>\n",
       "      <th>Day4(Time in minutes)</th>\n",
       "    </tr>\n",
       "  </thead>\n",
       "  <tbody>\n",
       "    <tr>\n",
       "      <th>0</th>\n",
       "      <td> A</td>\n",
       "      <td> 12</td>\n",
       "      <td> 16</td>\n",
       "      <td> 25</td>\n",
       "      <td> 26</td>\n",
       "      <td> 47</td>\n",
       "      <td> 12</td>\n",
       "      <td> 439</td>\n",
       "      <td> 231</td>\n",
       "      <td> 696</td>\n",
       "      <td> 373</td>\n",
       "    </tr>\n",
       "    <tr>\n",
       "      <th>1</th>\n",
       "      <td> B</td>\n",
       "      <td> 16</td>\n",
       "      <td> 23</td>\n",
       "      <td> 31</td>\n",
       "      <td> 38</td>\n",
       "      <td> 45</td>\n",
       "      <td> 47</td>\n",
       "      <td> 700</td>\n",
       "      <td> 904</td>\n",
       "      <td> 342</td>\n",
       "      <td> 200</td>\n",
       "    </tr>\n",
       "    <tr>\n",
       "      <th>2</th>\n",
       "      <td> C</td>\n",
       "      <td> 15</td>\n",
       "      <td> 16</td>\n",
       "      <td> 25</td>\n",
       "      <td> 36</td>\n",
       "      <td> 43</td>\n",
       "      <td> 34</td>\n",
       "      <td> 406</td>\n",
       "      <td> 825</td>\n",
       "      <td> 458</td>\n",
       "      <td> 543</td>\n",
       "    </tr>\n",
       "    <tr>\n",
       "      <th>3</th>\n",
       "      <td> D</td>\n",
       "      <td> 12</td>\n",
       "      <td> 16</td>\n",
       "      <td> 20</td>\n",
       "      <td> 34</td>\n",
       "      <td> 36</td>\n",
       "      <td> 10</td>\n",
       "      <td> 312</td>\n",
       "      <td> 829</td>\n",
       "      <td> 475</td>\n",
       "      <td> 432</td>\n",
       "    </tr>\n",
       "    <tr>\n",
       "      <th>4</th>\n",
       "      <td> E</td>\n",
       "      <td> 11</td>\n",
       "      <td> 18</td>\n",
       "      <td> 30</td>\n",
       "      <td> 35</td>\n",
       "      <td> 40</td>\n",
       "      <td> 19</td>\n",
       "      <td> 458</td>\n",
       "      <td> 399</td>\n",
       "      <td> 892</td>\n",
       "      <td> 477</td>\n",
       "    </tr>\n",
       "  </tbody>\n",
       "</table>\n",
       "</div>"
      ],
      "text/plain": [
       "  Players  Game1(number of moves)  Game2(number of moves)  \\\n",
       "0       A                      12                      16   \n",
       "1       B                      16                      23   \n",
       "2       C                      15                      16   \n",
       "3       D                      12                      16   \n",
       "4       E                      11                      18   \n",
       "\n",
       "   Game3(number of moves)  Game4(number of moves)  Game5(number of moves)  \\\n",
       "0                      25                      26                      47   \n",
       "1                      31                      38                      45   \n",
       "2                      25                      36                      43   \n",
       "3                      20                      34                      36   \n",
       "4                      30                      35                      40   \n",
       "\n",
       "   Game6(number of moves)  Day1(Time in minutes)  Day2(Time in minutes)  \\\n",
       "0                      12                    439                    231   \n",
       "1                      47                    700                    904   \n",
       "2                      34                    406                    825   \n",
       "3                      10                    312                    829   \n",
       "4                      19                    458                    399   \n",
       "\n",
       "   Day3(Time in minutes)  Day4(Time in minutes)  \n",
       "0                    696                    373  \n",
       "1                    342                    200  \n",
       "2                    458                    543  \n",
       "3                    475                    432  \n",
       "4                    892                    477  "
      ]
     },
     "execution_count": 18,
     "metadata": {},
     "output_type": "execute_result"
    }
   ],
   "source": [
    "game_df.head()"
   ]
  },
  {
   "cell_type": "code",
   "execution_count": 20,
   "metadata": {
    "collapsed": false
   },
   "outputs": [
    {
     "data": {
      "text/html": [
       "<div style=\"max-height:1000px;max-width:1500px;overflow:auto;\">\n",
       "<table border=\"1\" class=\"dataframe\">\n",
       "  <thead>\n",
       "    <tr style=\"text-align: right;\">\n",
       "      <th></th>\n",
       "      <th>Players</th>\n",
       "      <th>Game1(number of moves)</th>\n",
       "      <th>Game2(number of moves)</th>\n",
       "      <th>Game3(number of moves)</th>\n",
       "      <th>Game4(number of moves)</th>\n",
       "      <th>Game5(number of moves)</th>\n",
       "      <th>Game6(number of moves)</th>\n",
       "      <th>Day1(Time in minutes)</th>\n",
       "      <th>Day2(Time in minutes)</th>\n",
       "      <th>Day3(Time in minutes)</th>\n",
       "      <th>Day4(Time in minutes)</th>\n",
       "    </tr>\n",
       "  </thead>\n",
       "  <tbody>\n",
       "    <tr>\n",
       "      <th>0 </th>\n",
       "      <td> A</td>\n",
       "      <td> 12</td>\n",
       "      <td> 16</td>\n",
       "      <td> 25</td>\n",
       "      <td> 26</td>\n",
       "      <td> 47</td>\n",
       "      <td> 12</td>\n",
       "      <td> 439</td>\n",
       "      <td> 231</td>\n",
       "      <td>  696</td>\n",
       "      <td> 373</td>\n",
       "    </tr>\n",
       "    <tr>\n",
       "      <th>1 </th>\n",
       "      <td> B</td>\n",
       "      <td> 16</td>\n",
       "      <td> 23</td>\n",
       "      <td> 31</td>\n",
       "      <td> 38</td>\n",
       "      <td> 45</td>\n",
       "      <td> 47</td>\n",
       "      <td> 700</td>\n",
       "      <td> 904</td>\n",
       "      <td>  342</td>\n",
       "      <td> 200</td>\n",
       "    </tr>\n",
       "    <tr>\n",
       "      <th>2 </th>\n",
       "      <td> C</td>\n",
       "      <td> 15</td>\n",
       "      <td> 16</td>\n",
       "      <td> 25</td>\n",
       "      <td> 36</td>\n",
       "      <td> 43</td>\n",
       "      <td> 34</td>\n",
       "      <td> 406</td>\n",
       "      <td> 825</td>\n",
       "      <td>  458</td>\n",
       "      <td> 543</td>\n",
       "    </tr>\n",
       "    <tr>\n",
       "      <th>3 </th>\n",
       "      <td> D</td>\n",
       "      <td> 12</td>\n",
       "      <td> 16</td>\n",
       "      <td> 20</td>\n",
       "      <td> 34</td>\n",
       "      <td> 36</td>\n",
       "      <td> 10</td>\n",
       "      <td> 312</td>\n",
       "      <td> 829</td>\n",
       "      <td>  475</td>\n",
       "      <td> 432</td>\n",
       "    </tr>\n",
       "    <tr>\n",
       "      <th>4 </th>\n",
       "      <td> E</td>\n",
       "      <td> 11</td>\n",
       "      <td> 18</td>\n",
       "      <td> 30</td>\n",
       "      <td> 35</td>\n",
       "      <td> 40</td>\n",
       "      <td> 19</td>\n",
       "      <td> 458</td>\n",
       "      <td> 399</td>\n",
       "      <td>  892</td>\n",
       "      <td> 477</td>\n",
       "    </tr>\n",
       "    <tr>\n",
       "      <th>5 </th>\n",
       "      <td> F</td>\n",
       "      <td> 10</td>\n",
       "      <td> 19</td>\n",
       "      <td> 22</td>\n",
       "      <td> 35</td>\n",
       "      <td> 44</td>\n",
       "      <td> 20</td>\n",
       "      <td> 455</td>\n",
       "      <td> 457</td>\n",
       "      <td>  723</td>\n",
       "      <td> 533</td>\n",
       "    </tr>\n",
       "    <tr>\n",
       "      <th>6 </th>\n",
       "      <td> G</td>\n",
       "      <td> 10</td>\n",
       "      <td> 22</td>\n",
       "      <td> 24</td>\n",
       "      <td> 38</td>\n",
       "      <td> 22</td>\n",
       "      <td> 19</td>\n",
       "      <td> 545</td>\n",
       "      <td> 201</td>\n",
       "      <td>  691</td>\n",
       "      <td> 291</td>\n",
       "    </tr>\n",
       "    <tr>\n",
       "      <th>7 </th>\n",
       "      <td> H</td>\n",
       "      <td> 12</td>\n",
       "      <td> 30</td>\n",
       "      <td> 17</td>\n",
       "      <td> 27</td>\n",
       "      <td> 38</td>\n",
       "      <td> 14</td>\n",
       "      <td> 309</td>\n",
       "      <td> 564</td>\n",
       "      <td>  887</td>\n",
       "      <td> 719</td>\n",
       "    </tr>\n",
       "    <tr>\n",
       "      <th>8 </th>\n",
       "      <td> I</td>\n",
       "      <td> 16</td>\n",
       "      <td> 30</td>\n",
       "      <td> 17</td>\n",
       "      <td> 29</td>\n",
       "      <td> 28</td>\n",
       "      <td> 26</td>\n",
       "      <td> 418</td>\n",
       "      <td> 414</td>\n",
       "      <td>  945</td>\n",
       "      <td> 210</td>\n",
       "    </tr>\n",
       "    <tr>\n",
       "      <th>9 </th>\n",
       "      <td> J</td>\n",
       "      <td> 17</td>\n",
       "      <td> 16</td>\n",
       "      <td> 19</td>\n",
       "      <td> 39</td>\n",
       "      <td> 30</td>\n",
       "      <td> 33</td>\n",
       "      <td> 355</td>\n",
       "      <td> 343</td>\n",
       "      <td>  418</td>\n",
       "      <td> 654</td>\n",
       "    </tr>\n",
       "    <tr>\n",
       "      <th>10</th>\n",
       "      <td> K</td>\n",
       "      <td> 19</td>\n",
       "      <td> 27</td>\n",
       "      <td> 18</td>\n",
       "      <td> 39</td>\n",
       "      <td> 32</td>\n",
       "      <td> 50</td>\n",
       "      <td> 362</td>\n",
       "      <td> 827</td>\n",
       "      <td>  581</td>\n",
       "      <td> 365</td>\n",
       "    </tr>\n",
       "    <tr>\n",
       "      <th>11</th>\n",
       "      <td> L</td>\n",
       "      <td> 17</td>\n",
       "      <td> 25</td>\n",
       "      <td> 19</td>\n",
       "      <td> 35</td>\n",
       "      <td> 45</td>\n",
       "      <td> 35</td>\n",
       "      <td> 316</td>\n",
       "      <td> 757</td>\n",
       "      <td>  772</td>\n",
       "      <td> 601</td>\n",
       "    </tr>\n",
       "    <tr>\n",
       "      <th>12</th>\n",
       "      <td> M</td>\n",
       "      <td> 18</td>\n",
       "      <td> 24</td>\n",
       "      <td> 20</td>\n",
       "      <td> 26</td>\n",
       "      <td> 47</td>\n",
       "      <td> 11</td>\n",
       "      <td> 352</td>\n",
       "      <td> 479</td>\n",
       "      <td>  715</td>\n",
       "      <td> 628</td>\n",
       "    </tr>\n",
       "    <tr>\n",
       "      <th>13</th>\n",
       "      <td> N</td>\n",
       "      <td> 15</td>\n",
       "      <td> 20</td>\n",
       "      <td> 27</td>\n",
       "      <td> 39</td>\n",
       "      <td> 29</td>\n",
       "      <td> 15</td>\n",
       "      <td> 581</td>\n",
       "      <td> 571</td>\n",
       "      <td>  284</td>\n",
       "      <td> 540</td>\n",
       "    </tr>\n",
       "    <tr>\n",
       "      <th>14</th>\n",
       "      <td> O</td>\n",
       "      <td> 12</td>\n",
       "      <td> 15</td>\n",
       "      <td> 27</td>\n",
       "      <td> 30</td>\n",
       "      <td> 23</td>\n",
       "      <td> 10</td>\n",
       "      <td> 553</td>\n",
       "      <td> 761</td>\n",
       "      <td> 1000</td>\n",
       "      <td> 769</td>\n",
       "    </tr>\n",
       "  </tbody>\n",
       "</table>\n",
       "</div>"
      ],
      "text/plain": [
       "   Players  Game1(number of moves)  Game2(number of moves)  \\\n",
       "0        A                      12                      16   \n",
       "1        B                      16                      23   \n",
       "2        C                      15                      16   \n",
       "3        D                      12                      16   \n",
       "4        E                      11                      18   \n",
       "5        F                      10                      19   \n",
       "6        G                      10                      22   \n",
       "7        H                      12                      30   \n",
       "8        I                      16                      30   \n",
       "9        J                      17                      16   \n",
       "10       K                      19                      27   \n",
       "11       L                      17                      25   \n",
       "12       M                      18                      24   \n",
       "13       N                      15                      20   \n",
       "14       O                      12                      15   \n",
       "\n",
       "    Game3(number of moves)  Game4(number of moves)  Game5(number of moves)  \\\n",
       "0                       25                      26                      47   \n",
       "1                       31                      38                      45   \n",
       "2                       25                      36                      43   \n",
       "3                       20                      34                      36   \n",
       "4                       30                      35                      40   \n",
       "5                       22                      35                      44   \n",
       "6                       24                      38                      22   \n",
       "7                       17                      27                      38   \n",
       "8                       17                      29                      28   \n",
       "9                       19                      39                      30   \n",
       "10                      18                      39                      32   \n",
       "11                      19                      35                      45   \n",
       "12                      20                      26                      47   \n",
       "13                      27                      39                      29   \n",
       "14                      27                      30                      23   \n",
       "\n",
       "    Game6(number of moves)  Day1(Time in minutes)  Day2(Time in minutes)  \\\n",
       "0                       12                    439                    231   \n",
       "1                       47                    700                    904   \n",
       "2                       34                    406                    825   \n",
       "3                       10                    312                    829   \n",
       "4                       19                    458                    399   \n",
       "5                       20                    455                    457   \n",
       "6                       19                    545                    201   \n",
       "7                       14                    309                    564   \n",
       "8                       26                    418                    414   \n",
       "9                       33                    355                    343   \n",
       "10                      50                    362                    827   \n",
       "11                      35                    316                    757   \n",
       "12                      11                    352                    479   \n",
       "13                      15                    581                    571   \n",
       "14                      10                    553                    761   \n",
       "\n",
       "    Day3(Time in minutes)  Day4(Time in minutes)  \n",
       "0                     696                    373  \n",
       "1                     342                    200  \n",
       "2                     458                    543  \n",
       "3                     475                    432  \n",
       "4                     892                    477  \n",
       "5                     723                    533  \n",
       "6                     691                    291  \n",
       "7                     887                    719  \n",
       "8                     945                    210  \n",
       "9                     418                    654  \n",
       "10                    581                    365  \n",
       "11                    772                    601  \n",
       "12                    715                    628  \n",
       "13                    284                    540  \n",
       "14                   1000                    769  "
      ]
     },
     "execution_count": 20,
     "metadata": {},
     "output_type": "execute_result"
    }
   ],
   "source": [
    "game_df.head(15)"
   ]
  },
  {
   "cell_type": "code",
   "execution_count": 28,
   "metadata": {
    "collapsed": true
   },
   "outputs": [],
   "source": [
    "def set_hadoop_config(credentials):\n",
    "    prefix = \"fs.swift.service.\" + credential['name'] \n",
    "    hconf = sc._jsc.hadoopConfiguration()\n",
    "    hconf.set(prefix + \".auth.url\", credential['auth_url']+'/v2.0/tokens')\n",
    "    hconf.set(prefix + \".auth.endpoint.prefix\", \"endpoints\")\n",
    "    hconf.set(prefix + \".tenant\", credential['project_id'])\n",
    "    hconf.set(prefix + \".username\", credential['user_id'])\n",
    "    hconf.set(prefix + \".password\", credential['password'])\n",
    "    hconf.setInt(prefix + \".http.port\", 8080)\n",
    "    hconf.set(prefix + \".region\", credential['region'])\n",
    "    hconf.setBoolean(prefix + \".public\", True)"
   ]
  },
  {
   "cell_type": "code",
   "execution_count": 29,
   "metadata": {
    "collapsed": true
   },
   "outputs": [],
   "source": [
    "credential = {}\n",
    "credential['name'] = 'gameretention'\n",
    "credential['auth_url'] = 'https://identity.open.softlayer.com'\n",
    "credential['project_id'] = '84a82590ff214fb5b85c4f4ab404499e'\n",
    "credential['region'] = 'dallas'\n",
    "credential['user_id'] = '7753af79089b4e4b98dbe4a4761a19b8'\n",
    "credential['password'] = 'FH*91K_NZ#nvou=&'"
   ]
  },
  {
   "cell_type": "code",
   "execution_count": 30,
   "metadata": {
    "collapsed": false
   },
   "outputs": [],
   "source": [
    "set_hadoop_config(credentials)"
   ]
  },
  {
   "cell_type": "code",
   "execution_count": 31,
   "metadata": {
    "collapsed": true
   },
   "outputs": [],
   "source": [
    "game_data = sc.textFile(\"swift://notebooks.gameretention/FreeFlowPlayerData.csv\")"
   ]
  },
  {
   "cell_type": "code",
   "execution_count": 32,
   "metadata": {
    "collapsed": false
   },
   "outputs": [
    {
     "name": "stdout",
     "output_type": "stream",
     "text": [
      "Total records in the FreeFlowPlayerData.csv dataset: 27\n"
     ]
    }
   ],
   "source": [
    "print \"Total records in the FreeFlowPlayerData.csv dataset:\", game_data.count()"
   ]
  },
  {
   "cell_type": "code",
   "execution_count": 33,
   "metadata": {
    "collapsed": false
   },
   "outputs": [
    {
     "name": "stdout",
     "output_type": "stream",
     "text": [
      "The first row in the FreeFlowPlayerData.csv dataset: Players,Game1(number of moves),Game2(number of moves),Game3(number of moves),Game4(number of moves),Game5(number of moves),Game6(number of moves),Day1(Time in minutes),Day2(Time in minutes),Day3(Time in minutes),Day4(Time in minutes)\n"
     ]
    }
   ],
   "source": [
    "print \"The first row in the FreeFlowPlayerData.csv dataset:\", game_data.first()"
   ]
  },
  {
   "cell_type": "code",
   "execution_count": 36,
   "metadata": {
    "collapsed": false
   },
   "outputs": [
    {
     "name": "stdout",
     "output_type": "stream",
     "text": [
      "\n"
     ]
    }
   ],
   "source": [
    "game_data_parse = game_data.map(lambda line : line.split(\",\"))"
   ]
  },
  {
   "cell_type": "code",
   "execution_count": 37,
   "metadata": {
    "collapsed": false
   },
   "outputs": [
    {
     "data": {
      "text/plain": [
       "[u'Players',\n",
       " u'Game1(number of moves)',\n",
       " u'Game2(number of moves)',\n",
       " u'Game3(number of moves)',\n",
       " u'Game4(number of moves)',\n",
       " u'Game5(number of moves)',\n",
       " u'Game6(number of moves)',\n",
       " u'Day1(Time in minutes)',\n",
       " u'Day2(Time in minutes)',\n",
       " u'Day3(Time in minutes)',\n",
       " u'Day4(Time in minutes)']"
      ]
     },
     "execution_count": 37,
     "metadata": {},
     "output_type": "execute_result"
    }
   ],
   "source": [
    "game_data_parse.first()"
   ]
  },
  {
   "cell_type": "code",
   "execution_count": 39,
   "metadata": {
    "collapsed": false
   },
   "outputs": [
    {
     "data": {
      "text/html": [
       "<div style=\"max-height:1000px;max-width:1500px;overflow:auto;\">\n",
       "<table border=\"1\" class=\"dataframe\">\n",
       "  <thead>\n",
       "    <tr style=\"text-align: right;\">\n",
       "      <th></th>\n",
       "      <th>Players</th>\n",
       "      <th>Game1(number of moves)</th>\n",
       "      <th>Game2(number of moves)</th>\n",
       "      <th>Game3(number of moves)</th>\n",
       "      <th>Game4(number of moves)</th>\n",
       "      <th>Game5(number of moves)</th>\n",
       "      <th>Game6(number of moves)</th>\n",
       "      <th>Day1(Time in minutes)</th>\n",
       "      <th>Day2(Time in minutes)</th>\n",
       "      <th>Day3(Time in minutes)</th>\n",
       "      <th>Day4(Time in minutes)</th>\n",
       "    </tr>\n",
       "  </thead>\n",
       "  <tbody>\n",
       "    <tr>\n",
       "      <th>0</th>\n",
       "      <td> A</td>\n",
       "      <td> 12</td>\n",
       "      <td> 16</td>\n",
       "      <td> 25</td>\n",
       "      <td> 26</td>\n",
       "      <td> 47</td>\n",
       "      <td> 12</td>\n",
       "      <td> 439</td>\n",
       "      <td> 231</td>\n",
       "      <td> 696</td>\n",
       "      <td> 373</td>\n",
       "    </tr>\n",
       "    <tr>\n",
       "      <th>1</th>\n",
       "      <td> B</td>\n",
       "      <td> 16</td>\n",
       "      <td> 23</td>\n",
       "      <td> 31</td>\n",
       "      <td> 38</td>\n",
       "      <td> 45</td>\n",
       "      <td> 47</td>\n",
       "      <td> 700</td>\n",
       "      <td> 904</td>\n",
       "      <td> 342</td>\n",
       "      <td> 200</td>\n",
       "    </tr>\n",
       "    <tr>\n",
       "      <th>2</th>\n",
       "      <td> C</td>\n",
       "      <td> 15</td>\n",
       "      <td> 16</td>\n",
       "      <td> 25</td>\n",
       "      <td> 36</td>\n",
       "      <td> 43</td>\n",
       "      <td> 34</td>\n",
       "      <td> 406</td>\n",
       "      <td> 825</td>\n",
       "      <td> 458</td>\n",
       "      <td> 543</td>\n",
       "    </tr>\n",
       "    <tr>\n",
       "      <th>3</th>\n",
       "      <td> D</td>\n",
       "      <td> 12</td>\n",
       "      <td> 16</td>\n",
       "      <td> 20</td>\n",
       "      <td> 34</td>\n",
       "      <td> 36</td>\n",
       "      <td> 10</td>\n",
       "      <td> 312</td>\n",
       "      <td> 829</td>\n",
       "      <td> 475</td>\n",
       "      <td> 432</td>\n",
       "    </tr>\n",
       "    <tr>\n",
       "      <th>4</th>\n",
       "      <td> E</td>\n",
       "      <td> 11</td>\n",
       "      <td> 18</td>\n",
       "      <td> 30</td>\n",
       "      <td> 35</td>\n",
       "      <td> 40</td>\n",
       "      <td> 19</td>\n",
       "      <td> 458</td>\n",
       "      <td> 399</td>\n",
       "      <td> 892</td>\n",
       "      <td> 477</td>\n",
       "    </tr>\n",
       "  </tbody>\n",
       "</table>\n",
       "</div>"
      ],
      "text/plain": [
       "  Players  Game1(number of moves)  Game2(number of moves)  \\\n",
       "0       A                      12                      16   \n",
       "1       B                      16                      23   \n",
       "2       C                      15                      16   \n",
       "3       D                      12                      16   \n",
       "4       E                      11                      18   \n",
       "\n",
       "   Game3(number of moves)  Game4(number of moves)  Game5(number of moves)  \\\n",
       "0                      25                      26                      47   \n",
       "1                      31                      38                      45   \n",
       "2                      25                      36                      43   \n",
       "3                      20                      34                      36   \n",
       "4                      30                      35                      40   \n",
       "\n",
       "   Game6(number of moves)  Day1(Time in minutes)  Day2(Time in minutes)  \\\n",
       "0                      12                    439                    231   \n",
       "1                      47                    700                    904   \n",
       "2                      34                    406                    825   \n",
       "3                      10                    312                    829   \n",
       "4                      19                    458                    399   \n",
       "\n",
       "   Day3(Time in minutes)  Day4(Time in minutes)  \n",
       "0                    696                    373  \n",
       "1                    342                    200  \n",
       "2                    458                    543  \n",
       "3                    475                    432  \n",
       "4                    892                    477  "
      ]
     },
     "execution_count": 39,
     "metadata": {},
     "output_type": "execute_result"
    }
   ],
   "source": [
    "game_df.head()"
   ]
  },
  {
   "cell_type": "code",
   "execution_count": 42,
   "metadata": {
    "collapsed": true
   },
   "outputs": [],
   "source": [
    "game_dataforB = game_data_parse.filter(lambda x: x[0] == \"B\")"
   ]
  },
  {
   "cell_type": "code",
   "execution_count": 43,
   "metadata": {
    "collapsed": false
   },
   "outputs": [
    {
     "data": {
      "text/plain": [
       "[u'B',\n",
       " u'16',\n",
       " u'23',\n",
       " u'31',\n",
       " u'38',\n",
       " u'45',\n",
       " u'47',\n",
       " u'700',\n",
       " u'904',\n",
       " u'342',\n",
       " u'200']"
      ]
     },
     "execution_count": 43,
     "metadata": {},
     "output_type": "execute_result"
    }
   ],
   "source": [
    "game_dataforB.first()"
   ]
  },
  {
   "cell_type": "code",
   "execution_count": 45,
   "metadata": {
    "collapsed": false
   },
   "outputs": [
    {
     "data": {
      "text/html": [
       "<div style=\"max-height:1000px;max-width:1500px;overflow:auto;\">\n",
       "<table border=\"1\" class=\"dataframe\">\n",
       "  <thead>\n",
       "    <tr style=\"text-align: right;\">\n",
       "      <th></th>\n",
       "      <th>Game1(number of moves)</th>\n",
       "      <th>Game2(number of moves)</th>\n",
       "      <th>Game3(number of moves)</th>\n",
       "      <th>Game4(number of moves)</th>\n",
       "      <th>Game5(number of moves)</th>\n",
       "      <th>Game6(number of moves)</th>\n",
       "      <th>Day1(Time in minutes)</th>\n",
       "      <th>Day2(Time in minutes)</th>\n",
       "      <th>Day3(Time in minutes)</th>\n",
       "      <th>Day4(Time in minutes)</th>\n",
       "    </tr>\n",
       "    <tr>\n",
       "      <th>Players</th>\n",
       "      <th></th>\n",
       "      <th></th>\n",
       "      <th></th>\n",
       "      <th></th>\n",
       "      <th></th>\n",
       "      <th></th>\n",
       "      <th></th>\n",
       "      <th></th>\n",
       "      <th></th>\n",
       "      <th></th>\n",
       "    </tr>\n",
       "  </thead>\n",
       "  <tbody>\n",
       "    <tr>\n",
       "      <th>A</th>\n",
       "      <td> 12</td>\n",
       "      <td> 16</td>\n",
       "      <td> 25</td>\n",
       "      <td> 26</td>\n",
       "      <td> 47</td>\n",
       "      <td> 12</td>\n",
       "      <td> 439</td>\n",
       "      <td> 231</td>\n",
       "      <td> 696</td>\n",
       "      <td> 373</td>\n",
       "    </tr>\n",
       "    <tr>\n",
       "      <th>B</th>\n",
       "      <td> 16</td>\n",
       "      <td> 23</td>\n",
       "      <td> 31</td>\n",
       "      <td> 38</td>\n",
       "      <td> 45</td>\n",
       "      <td> 47</td>\n",
       "      <td> 700</td>\n",
       "      <td> 904</td>\n",
       "      <td> 342</td>\n",
       "      <td> 200</td>\n",
       "    </tr>\n",
       "  </tbody>\n",
       "</table>\n",
       "</div>"
      ],
      "text/plain": [
       "         Game1(number of moves)  Game2(number of moves)  \\\n",
       "Players                                                   \n",
       "A                            12                      16   \n",
       "B                            16                      23   \n",
       "\n",
       "         Game3(number of moves)  Game4(number of moves)  \\\n",
       "Players                                                   \n",
       "A                            25                      26   \n",
       "B                            31                      38   \n",
       "\n",
       "         Game5(number of moves)  Game6(number of moves)  \\\n",
       "Players                                                   \n",
       "A                            47                      12   \n",
       "B                            45                      47   \n",
       "\n",
       "         Day1(Time in minutes)  Day2(Time in minutes)  Day3(Time in minutes)  \\\n",
       "Players                                                                        \n",
       "A                          439                    231                    696   \n",
       "B                          700                    904                    342   \n",
       "\n",
       "         Day4(Time in minutes)  \n",
       "Players                         \n",
       "A                          373  \n",
       "B                          200  "
      ]
     },
     "execution_count": 45,
     "metadata": {},
     "output_type": "execute_result"
    }
   ],
   "source": [
    "unit = \"time\"\n",
    "game_df = game_df.set_index(game_df[\"Players\"])\n",
    "game_df.drop(['Players'], axis=1, inplace=True)\n",
    "game_df.head(2)"
   ]
  },
  {
   "cell_type": "code",
   "execution_count": 46,
   "metadata": {
    "collapsed": true
   },
   "outputs": [],
   "source": [
    "game_df_movesdata=game_df"
   ]
  },
  {
   "cell_type": "code",
   "execution_count": 48,
   "metadata": {
    "collapsed": false
   },
   "outputs": [],
   "source": [
    "game_df_movesdata.drop(['Day1(Time in minutes)'],axis=1,inplace=True)"
   ]
  },
  {
   "cell_type": "code",
   "execution_count": 50,
   "metadata": {
    "collapsed": false
   },
   "outputs": [
    {
     "data": {
      "text/html": [
       "<div style=\"max-height:1000px;max-width:1500px;overflow:auto;\">\n",
       "<table border=\"1\" class=\"dataframe\">\n",
       "  <thead>\n",
       "    <tr style=\"text-align: right;\">\n",
       "      <th></th>\n",
       "      <th>Game1(number of moves)</th>\n",
       "      <th>Game2(number of moves)</th>\n",
       "      <th>Game3(number of moves)</th>\n",
       "      <th>Game4(number of moves)</th>\n",
       "      <th>Game5(number of moves)</th>\n",
       "      <th>Game6(number of moves)</th>\n",
       "      <th>Day2(Time in minutes)</th>\n",
       "      <th>Day3(Time in minutes)</th>\n",
       "      <th>Day4(Time in minutes)</th>\n",
       "    </tr>\n",
       "    <tr>\n",
       "      <th>Players</th>\n",
       "      <th></th>\n",
       "      <th></th>\n",
       "      <th></th>\n",
       "      <th></th>\n",
       "      <th></th>\n",
       "      <th></th>\n",
       "      <th></th>\n",
       "      <th></th>\n",
       "      <th></th>\n",
       "    </tr>\n",
       "  </thead>\n",
       "  <tbody>\n",
       "    <tr>\n",
       "      <th>A</th>\n",
       "      <td> 12</td>\n",
       "      <td> 16</td>\n",
       "      <td> 25</td>\n",
       "      <td> 26</td>\n",
       "      <td> 47</td>\n",
       "      <td> 12</td>\n",
       "      <td> 231</td>\n",
       "      <td> 696</td>\n",
       "      <td> 373</td>\n",
       "    </tr>\n",
       "    <tr>\n",
       "      <th>B</th>\n",
       "      <td> 16</td>\n",
       "      <td> 23</td>\n",
       "      <td> 31</td>\n",
       "      <td> 38</td>\n",
       "      <td> 45</td>\n",
       "      <td> 47</td>\n",
       "      <td> 904</td>\n",
       "      <td> 342</td>\n",
       "      <td> 200</td>\n",
       "    </tr>\n",
       "    <tr>\n",
       "      <th>C</th>\n",
       "      <td> 15</td>\n",
       "      <td> 16</td>\n",
       "      <td> 25</td>\n",
       "      <td> 36</td>\n",
       "      <td> 43</td>\n",
       "      <td> 34</td>\n",
       "      <td> 825</td>\n",
       "      <td> 458</td>\n",
       "      <td> 543</td>\n",
       "    </tr>\n",
       "    <tr>\n",
       "      <th>D</th>\n",
       "      <td> 12</td>\n",
       "      <td> 16</td>\n",
       "      <td> 20</td>\n",
       "      <td> 34</td>\n",
       "      <td> 36</td>\n",
       "      <td> 10</td>\n",
       "      <td> 829</td>\n",
       "      <td> 475</td>\n",
       "      <td> 432</td>\n",
       "    </tr>\n",
       "    <tr>\n",
       "      <th>E</th>\n",
       "      <td> 11</td>\n",
       "      <td> 18</td>\n",
       "      <td> 30</td>\n",
       "      <td> 35</td>\n",
       "      <td> 40</td>\n",
       "      <td> 19</td>\n",
       "      <td> 399</td>\n",
       "      <td> 892</td>\n",
       "      <td> 477</td>\n",
       "    </tr>\n",
       "  </tbody>\n",
       "</table>\n",
       "</div>"
      ],
      "text/plain": [
       "         Game1(number of moves)  Game2(number of moves)  \\\n",
       "Players                                                   \n",
       "A                            12                      16   \n",
       "B                            16                      23   \n",
       "C                            15                      16   \n",
       "D                            12                      16   \n",
       "E                            11                      18   \n",
       "\n",
       "         Game3(number of moves)  Game4(number of moves)  \\\n",
       "Players                                                   \n",
       "A                            25                      26   \n",
       "B                            31                      38   \n",
       "C                            25                      36   \n",
       "D                            20                      34   \n",
       "E                            30                      35   \n",
       "\n",
       "         Game5(number of moves)  Game6(number of moves)  \\\n",
       "Players                                                   \n",
       "A                            47                      12   \n",
       "B                            45                      47   \n",
       "C                            43                      34   \n",
       "D                            36                      10   \n",
       "E                            40                      19   \n",
       "\n",
       "         Day2(Time in minutes)  Day3(Time in minutes)  Day4(Time in minutes)  \n",
       "Players                                                                       \n",
       "A                          231                    696                    373  \n",
       "B                          904                    342                    200  \n",
       "C                          825                    458                    543  \n",
       "D                          829                    475                    432  \n",
       "E                          399                    892                    477  "
      ]
     },
     "execution_count": 50,
     "metadata": {},
     "output_type": "execute_result"
    }
   ],
   "source": [
    "game_df_movesdata.head()"
   ]
  },
  {
   "cell_type": "code",
   "execution_count": 51,
   "metadata": {
    "collapsed": true
   },
   "outputs": [],
   "source": [
    "game_df_movesdata.drop(['Day2(Time in minutes)'],axis=1,inplace=True)"
   ]
  },
  {
   "cell_type": "code",
   "execution_count": 52,
   "metadata": {
    "collapsed": true
   },
   "outputs": [],
   "source": [
    "game_df_movesdata.drop(['Day3(Time in minutes)'],axis=1,inplace=True)"
   ]
  },
  {
   "cell_type": "code",
   "execution_count": 53,
   "metadata": {
    "collapsed": true
   },
   "outputs": [],
   "source": [
    "game_df_movesdata.drop(['Day4(Time in minutes)'],axis=1,inplace=True)"
   ]
  },
  {
   "cell_type": "code",
   "execution_count": 54,
   "metadata": {
    "collapsed": false
   },
   "outputs": [
    {
     "data": {
      "text/html": [
       "<div style=\"max-height:1000px;max-width:1500px;overflow:auto;\">\n",
       "<table border=\"1\" class=\"dataframe\">\n",
       "  <thead>\n",
       "    <tr style=\"text-align: right;\">\n",
       "      <th></th>\n",
       "      <th>Game1(number of moves)</th>\n",
       "      <th>Game2(number of moves)</th>\n",
       "      <th>Game3(number of moves)</th>\n",
       "      <th>Game4(number of moves)</th>\n",
       "      <th>Game5(number of moves)</th>\n",
       "      <th>Game6(number of moves)</th>\n",
       "    </tr>\n",
       "    <tr>\n",
       "      <th>Players</th>\n",
       "      <th></th>\n",
       "      <th></th>\n",
       "      <th></th>\n",
       "      <th></th>\n",
       "      <th></th>\n",
       "      <th></th>\n",
       "    </tr>\n",
       "  </thead>\n",
       "  <tbody>\n",
       "    <tr>\n",
       "      <th>A</th>\n",
       "      <td> 12</td>\n",
       "      <td> 16</td>\n",
       "      <td> 25</td>\n",
       "      <td> 26</td>\n",
       "      <td> 47</td>\n",
       "      <td> 12</td>\n",
       "    </tr>\n",
       "    <tr>\n",
       "      <th>B</th>\n",
       "      <td> 16</td>\n",
       "      <td> 23</td>\n",
       "      <td> 31</td>\n",
       "      <td> 38</td>\n",
       "      <td> 45</td>\n",
       "      <td> 47</td>\n",
       "    </tr>\n",
       "    <tr>\n",
       "      <th>C</th>\n",
       "      <td> 15</td>\n",
       "      <td> 16</td>\n",
       "      <td> 25</td>\n",
       "      <td> 36</td>\n",
       "      <td> 43</td>\n",
       "      <td> 34</td>\n",
       "    </tr>\n",
       "    <tr>\n",
       "      <th>D</th>\n",
       "      <td> 12</td>\n",
       "      <td> 16</td>\n",
       "      <td> 20</td>\n",
       "      <td> 34</td>\n",
       "      <td> 36</td>\n",
       "      <td> 10</td>\n",
       "    </tr>\n",
       "    <tr>\n",
       "      <th>E</th>\n",
       "      <td> 11</td>\n",
       "      <td> 18</td>\n",
       "      <td> 30</td>\n",
       "      <td> 35</td>\n",
       "      <td> 40</td>\n",
       "      <td> 19</td>\n",
       "    </tr>\n",
       "  </tbody>\n",
       "</table>\n",
       "</div>"
      ],
      "text/plain": [
       "         Game1(number of moves)  Game2(number of moves)  \\\n",
       "Players                                                   \n",
       "A                            12                      16   \n",
       "B                            16                      23   \n",
       "C                            15                      16   \n",
       "D                            12                      16   \n",
       "E                            11                      18   \n",
       "\n",
       "         Game3(number of moves)  Game4(number of moves)  \\\n",
       "Players                                                   \n",
       "A                            25                      26   \n",
       "B                            31                      38   \n",
       "C                            25                      36   \n",
       "D                            20                      34   \n",
       "E                            30                      35   \n",
       "\n",
       "         Game5(number of moves)  Game6(number of moves)  \n",
       "Players                                                  \n",
       "A                            47                      12  \n",
       "B                            45                      47  \n",
       "C                            43                      34  \n",
       "D                            36                      10  \n",
       "E                            40                      19  "
      ]
     },
     "execution_count": 54,
     "metadata": {},
     "output_type": "execute_result"
    }
   ],
   "source": [
    "game_df_movesdata.head()"
   ]
  },
  {
   "cell_type": "code",
   "execution_count": 55,
   "metadata": {
    "collapsed": true
   },
   "outputs": [],
   "source": [
    "%matplotlib inline "
   ]
  },
  {
   "cell_type": "markdown",
   "metadata": {},
   "source": [
    "The above table contains the information about number of moves different players played in every game. "
   ]
  },
  {
   "cell_type": "code",
   "execution_count": 58,
   "metadata": {
    "collapsed": false
   },
   "outputs": [
    {
     "data": {
      "text/plain": [
       "<matplotlib.axes._subplots.AxesSubplot at 0x7f871b1eb5d0>"
      ]
     },
     "execution_count": 58,
     "metadata": {},
     "output_type": "execute_result"
    },
    {
     "data": {
      "image/png": "[encoded data removed]",
      "text/plain": [
       "<matplotlib.figure.Figure at 0x7f8721261fd0>"
      ]
     },
     "metadata": {},
     "output_type": "display_data"
    }
   ],
   "source": [
    "B = game_df_movesdata.ix['B']\n",
    "B.plot(kind='bar', figsize=(8,5), title=\"Analyzing the moves data for Player B\")"
   ]
  },
  {
   "cell_type": "code",
   "execution_count": 60,
   "metadata": {
    "collapsed": false
   },
   "outputs": [
    {
     "data": {
      "text/html": [
       "<div style=\"max-height:1000px;max-width:1500px;overflow:auto;\">\n",
       "<table border=\"1\" class=\"dataframe\">\n",
       "  <thead>\n",
       "    <tr style=\"text-align: right;\">\n",
       "      <th></th>\n",
       "      <th>Game1(number of moves)</th>\n",
       "      <th>Game2(number of moves)</th>\n",
       "      <th>Game3(number of moves)</th>\n",
       "      <th>Game4(number of moves)</th>\n",
       "      <th>Game5(number of moves)</th>\n",
       "      <th>Game6(number of moves)</th>\n",
       "    </tr>\n",
       "    <tr>\n",
       "      <th>Players</th>\n",
       "      <th></th>\n",
       "      <th></th>\n",
       "      <th></th>\n",
       "      <th></th>\n",
       "      <th></th>\n",
       "      <th></th>\n",
       "    </tr>\n",
       "  </thead>\n",
       "  <tbody>\n",
       "    <tr>\n",
       "      <th>A</th>\n",
       "      <td> 12</td>\n",
       "      <td> 16</td>\n",
       "      <td> 25</td>\n",
       "      <td> 26</td>\n",
       "      <td> 47</td>\n",
       "      <td> 12</td>\n",
       "    </tr>\n",
       "    <tr>\n",
       "      <th>B</th>\n",
       "      <td> 16</td>\n",
       "      <td> 23</td>\n",
       "      <td> 31</td>\n",
       "      <td> 38</td>\n",
       "      <td> 45</td>\n",
       "      <td> 47</td>\n",
       "    </tr>\n",
       "    <tr>\n",
       "      <th>C</th>\n",
       "      <td> 15</td>\n",
       "      <td> 16</td>\n",
       "      <td> 25</td>\n",
       "      <td> 36</td>\n",
       "      <td> 43</td>\n",
       "      <td> 34</td>\n",
       "    </tr>\n",
       "    <tr>\n",
       "      <th>D</th>\n",
       "      <td> 12</td>\n",
       "      <td> 16</td>\n",
       "      <td> 20</td>\n",
       "      <td> 34</td>\n",
       "      <td> 36</td>\n",
       "      <td> 10</td>\n",
       "    </tr>\n",
       "    <tr>\n",
       "      <th>E</th>\n",
       "      <td> 11</td>\n",
       "      <td> 18</td>\n",
       "      <td> 30</td>\n",
       "      <td> 35</td>\n",
       "      <td> 40</td>\n",
       "      <td> 19</td>\n",
       "    </tr>\n",
       "  </tbody>\n",
       "</table>\n",
       "</div>"
      ],
      "text/plain": [
       "         Game1(number of moves)  Game2(number of moves)  \\\n",
       "Players                                                   \n",
       "A                            12                      16   \n",
       "B                            16                      23   \n",
       "C                            15                      16   \n",
       "D                            12                      16   \n",
       "E                            11                      18   \n",
       "\n",
       "         Game3(number of moves)  Game4(number of moves)  \\\n",
       "Players                                                   \n",
       "A                            25                      26   \n",
       "B                            31                      38   \n",
       "C                            25                      36   \n",
       "D                            20                      34   \n",
       "E                            30                      35   \n",
       "\n",
       "         Game5(number of moves)  Game6(number of moves)  \n",
       "Players                                                  \n",
       "A                            47                      12  \n",
       "B                            45                      47  \n",
       "C                            43                      34  \n",
       "D                            36                      10  \n",
       "E                            40                      19  "
      ]
     },
     "execution_count": 60,
     "metadata": {},
     "output_type": "execute_result"
    }
   ],
   "source": [
    "game_df.head()"
   ]
  },
  {
   "cell_type": "code",
   "execution_count": null,
   "metadata": {
    "collapsed": true
   },
   "outputs": [],
   "source": []
  }
 ],
 "metadata": {
  "kernelspec": {
   "display_name": "Python 2",
   "language": "python",
   "name": "python2"
  },
  "language_info": {
   "codemirror_mode": {
    "name": "ipython",
    "version": 2
   },
   "file_extension": ".py",
   "mimetype": "text/x-python",
   "name": "python",
   "nbconvert_exporter": "python",
   "pygments_lexer": "ipython2",
   "version": "2.7.9"
  }
 },
 "nbformat": 4,
 "nbformat_minor": 0
}